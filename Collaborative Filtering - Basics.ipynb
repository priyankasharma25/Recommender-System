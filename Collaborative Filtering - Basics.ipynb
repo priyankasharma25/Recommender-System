{
 "cells": [
  {
   "cell_type": "code",
   "execution_count": 2,
   "metadata": {
    "collapsed": true
   },
   "outputs": [],
   "source": [
    "import numpy as np"
   ]
  },
  {
   "cell_type": "markdown",
   "metadata": {},
   "source": [
    "## Initial Setup\n",
    "We will first create our utility matrix, which has the movie ratings (columns) for each user (row). You can  also load the ratings file  "
   ]
  },
  {
   "cell_type": "code",
   "execution_count": 3,
   "metadata": {},
   "outputs": [],
   "source": [
    "utility = np.array([[1, 0, 3, 0, 0, 5, 0, 0, 5, 0, 4, 0],\n",
    "                    [0, 0, 5, 4, 0, 0, 4, 0, 0, 2, 1, 3],\n",
    "                    [2, 4, 0, 1, 2, 0, 3, 0, 4, 3, 5, 0],\n",
    "                    [0, 2, 4, 0, 5, 0, 0, 4, 0, 0, 2, 0],\n",
    "                    [0, 0, 4, 3, 4, 2, 0, 0, 0, 0, 2, 5],\n",
    "                    [1, 0, 3, 0, 3, 0, 0, 2, 0, 0, 4, 0],\n",
    "                   ])"
   ]
  },
  {
   "cell_type": "code",
   "execution_count": 4,
   "metadata": {},
   "outputs": [
    {
     "data": {
      "text/plain": [
       "array([[ 1.5       ],\n",
       "       [ 1.58333333],\n",
       "       [ 2.        ],\n",
       "       [ 1.41666667],\n",
       "       [ 1.66666667],\n",
       "       [ 1.08333333]])"
      ]
     },
     "execution_count": 4,
     "metadata": {},
     "output_type": "execute_result"
    }
   ],
   "source": [
    "utility.mean(axis=1, keepdims=True)"
   ]
  },
  {
   "cell_type": "markdown",
   "metadata": {},
   "source": [
    "## Masked Numpy Matrix\n",
    "While calculating the average scores for the user, we  want to ignore the zero / NULL value cells in the data set. We assumed that a zero rated cell, means the user has not watched the particular movie. \n",
    "While working with Numpy matrices and calculating the averages (or other functions), numpy will take into account the 0 rated cell. This would lead to incorrect value. To overcome this problem, we make use of Masked Numpy Matrix. Any functions that are run on the numpy masked matrix will be only run on cells which are marked as TRUE. For more details refer to the Numpy Masked Documentation: https://docs.scipy.org/doc/numpy/reference/maskedarray.generic.html"
   ]
  },
  {
   "cell_type": "code",
   "execution_count": 5,
   "metadata": {
    "collapsed": true
   },
   "outputs": [],
   "source": [
    "utility1 = np.ma.masked_where(utility == 0, utility)"
   ]
  },
  {
   "cell_type": "code",
   "execution_count": 6,
   "metadata": {},
   "outputs": [
    {
     "data": {
      "text/plain": [
       "masked_array(data =\n",
       " [[1 -- 3 -- -- 5 -- -- 5 -- 4 --]\n",
       " [-- -- 5 4 -- -- 4 -- -- 2 1 3]\n",
       " [2 4 -- 1 2 -- 3 -- 4 3 5 --]\n",
       " [-- 2 4 -- 5 -- -- 4 -- -- 2 --]\n",
       " [-- -- 4 3 4 2 -- -- -- -- 2 5]\n",
       " [1 -- 3 -- 3 -- -- 2 -- -- 4 --]],\n",
       "             mask =\n",
       " [[False  True False  True  True False  True  True False  True False  True]\n",
       " [ True  True False False  True  True False  True  True False False False]\n",
       " [False False  True False False  True False  True False False False  True]\n",
       " [ True False False  True False  True  True False  True  True False  True]\n",
       " [ True  True False False False False  True  True  True  True False False]\n",
       " [False  True False  True False  True  True False  True  True False  True]],\n",
       "       fill_value = 999999)"
      ]
     },
     "execution_count": 6,
     "metadata": {},
     "output_type": "execute_result"
    }
   ],
   "source": [
    "utility1"
   ]
  },
  {
   "cell_type": "code",
   "execution_count": 7,
   "metadata": {},
   "outputs": [
    {
     "data": {
      "text/plain": [
       "array([[ 3.6       ],\n",
       "       [ 3.16666667],\n",
       "       [ 3.        ],\n",
       "       [ 3.4       ],\n",
       "       [ 3.33333333],\n",
       "       [ 2.6       ]])"
      ]
     },
     "execution_count": 7,
     "metadata": {},
     "output_type": "execute_result"
    }
   ],
   "source": [
    "averages = np.ma.mean(utility1, axis=1, keepdims=True).filled(0)\n",
    "averages"
   ]
  },
  {
   "cell_type": "code",
   "execution_count": 8,
   "metadata": {
    "collapsed": true
   },
   "outputs": [],
   "source": [
    "intermediate = utility1 - averages"
   ]
  },
  {
   "cell_type": "markdown",
   "metadata": {},
   "source": [
    "## Calculation of Cosine Similarity\n",
    "\n",
    "In the calculation of the sum of squares, we have made use of an excellent function called Einstein summation. It is a very powerful function and for more details refer to the documentation. \n",
    "\n",
    "The parameters used for the sum of squares take the size of the matrix (i, j) and they are projected to calculated the sum as \n",
    "\n",
    "```python\n",
    "np.einsum(ij, ij -> i, A, A)\n",
    "```\n",
    "\n",
    "Another example would be a dot product of two matrix A(i,j) and B(j,k) would be written as\n",
    "\n",
    "```python\n",
    "np.einsum(ij, jk -> ik, A, B)\n",
    "```\n",
    "\n",
    "https://docs.scipy.org/doc/numpy/reference/generated/numpy.einsum.html"
   ]
  },
  {
   "cell_type": "code",
   "execution_count": 9,
   "metadata": {
    "collapsed": true
   },
   "outputs": [],
   "source": [
    "def similarity(util, person1, person2):\n",
    "    \n",
    "    #Extract the row for the first movie given in the parameter given in person1\n",
    "    if person1 ==1:\n",
    "        p1m = np.ma.filled(util[:person1,],0)\n",
    "    else:\n",
    "        #Calculate the previous index value, so that we can make use of the correct row\n",
    "        prev = person1-1 if person1 >1 else 1\n",
    "        p1m = np.ma.filled(util[prev:person1,],0)\n",
    "    \n",
    "    #Extract the row for the second movie given in the parameter given in person2\n",
    "    if person2 ==1:\n",
    "        p2m = np.ma.filled(util[:person2,],0)\n",
    "    else:\n",
    "        #Calculate the previous index value, so that we can make use of the correct row\n",
    "        prev = person2-1 if person2 >1 else 1\n",
    "        p2m = np.ma.filled(util[prev:person2,],0)\n",
    "    \n",
    "    #Now cosine similarity for the two given users\n",
    "    similar = np.asscalar(np.inner(p1m,p2m)) /  (np.asscalar(np.sqrt(np.einsum('ij,ij ->i',p1m, p1m))) * \n",
    "                 np.asscalar(np.sqrt(np.einsum('ij,ij ->i',p2m, p2m))))\n",
    "    return similar\n",
    "    "
   ]
  },
  {
   "cell_type": "code",
   "execution_count": 10,
   "metadata": {},
   "outputs": [
    {
     "data": {
      "text/plain": [
       "0.41403933560541256"
      ]
     },
     "execution_count": 10,
     "metadata": {},
     "output_type": "execute_result"
    }
   ],
   "source": [
    "similarity(intermediate, 1,3)"
   ]
  },
  {
   "cell_type": "code",
   "execution_count": 11,
   "metadata": {
    "collapsed": true
   },
   "outputs": [],
   "source": [
    "#Create an empty matrix that will be used to hold the similarity calculations for the movie pairs. \n",
    "count = intermediate.shape[0]\n",
    "out = np.zeros(shape=(count))"
   ]
  },
  {
   "cell_type": "code",
   "execution_count": 12,
   "metadata": {},
   "outputs": [
    {
     "data": {
      "text/plain": [
       "array([ 0.,  0.,  0.,  0.,  0.,  0.])"
      ]
     },
     "execution_count": 12,
     "metadata": {},
     "output_type": "execute_result"
    }
   ],
   "source": [
    "out"
   ]
  },
  {
   "cell_type": "raw",
   "metadata": {},
   "source": [
    "Lets calculate the similarity matrix. We will assume the movie1 as the baseline movie against whom we will calculate the similarity index. "
   ]
  },
  {
   "cell_type": "code",
   "execution_count": 13,
   "metadata": {
    "collapsed": true
   },
   "outputs": [],
   "source": [
    "baseMovie = 1\n",
    "for i in range(1,count+1):\n",
    "    out[i-1] = similarity(intermediate,baseMovie, i)"
   ]
  },
  {
   "cell_type": "code",
   "execution_count": 14,
   "metadata": {},
   "outputs": [
    {
     "data": {
      "text/plain": [
       "array([ 1.        , -0.17854212,  0.41403934, -0.10245014, -0.30895719,\n",
       "        0.58703951])"
      ]
     },
     "execution_count": 14,
     "metadata": {},
     "output_type": "execute_result"
    }
   ],
   "source": [
    "#Lets see what the out Matrix contains\n",
    "out"
   ]
  },
  {
   "cell_type": "code",
   "execution_count": 15,
   "metadata": {
    "collapsed": true
   },
   "outputs": [],
   "source": [
    "def calculateRating(ratingMatrix, similarityArray, userId=4, numberOfSimilarMovies=2):\n",
    "    sumRating = 0\n",
    "    norm = 0\n",
    "    \n",
    "    #Calculate the similar movie indices (smi)\n",
    "    smi = np.argsort(a=similarityArray)[-(numberOfSimilarMovies+1):-1]\n",
    "\n",
    "    for i in smi:\n",
    "        sumRating += ratingMatrix[i, userId] * similarityArray[i]\n",
    "        norm += similarityArray[i]\n",
    "    \n",
    "    return (sumRating/norm)"
   ]
  },
  {
   "cell_type": "code",
   "execution_count": 16,
   "metadata": {},
   "outputs": [
    {
     "data": {
      "text/plain": [
       "array([2, 5], dtype=int64)"
      ]
     },
     "execution_count": 16,
     "metadata": {},
     "output_type": "execute_result"
    }
   ],
   "source": [
    "np.argsort(a=out)[-3:-1]"
   ]
  },
  {
   "cell_type": "code",
   "execution_count": 17,
   "metadata": {},
   "outputs": [
    {
     "data": {
      "text/plain": [
       "2.5864068669348175"
      ]
     },
     "execution_count": 17,
     "metadata": {},
     "output_type": "execute_result"
    }
   ],
   "source": [
    "calculateRating(utility, out,4)"
   ]
  }
 ],
 "metadata": {
  "kernelspec": {
   "display_name": "Python 3",
   "language": "python",
   "name": "python3"
  },
  "language_info": {
   "codemirror_mode": {
    "name": "ipython",
    "version": 3
   },
   "file_extension": ".py",
   "mimetype": "text/x-python",
   "name": "python",
   "nbconvert_exporter": "python",
   "pygments_lexer": "ipython3",
   "version": "3.6.4"
  }
 },
 "nbformat": 4,
 "nbformat_minor": 2
}
